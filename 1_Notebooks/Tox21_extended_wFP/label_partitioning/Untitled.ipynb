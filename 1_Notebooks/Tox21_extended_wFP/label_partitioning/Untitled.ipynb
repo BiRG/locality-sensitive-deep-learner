{
 "cells": [
  {
   "cell_type": "code",
   "execution_count": 1,
   "metadata": {},
   "outputs": [],
   "source": [
    "import sys\n",
    "import os\n",
    "os.chdir(\"..\")\n",
    "import numpy as np\n",
    "from Tox21_extended_experiment_helper import load_data"
   ]
  },
  {
   "cell_type": "code",
   "execution_count": 2,
   "metadata": {},
   "outputs": [],
   "source": [
    "r = load_data()\n",
    "labels = r['labels']\n",
    "train_targets = r['train_targets'].values\n",
    "test_targets = r['test_targets'].values"
   ]
  },
  {
   "cell_type": "code",
   "execution_count": 3,
   "metadata": {},
   "outputs": [
    {
     "name": "stderr",
     "output_type": "stream",
     "text": [
      "D:\\Envs\\LocallyLinearManifold\\locally-linear-manifold\\1_Notebooks\\Tox21_extended_wFP\\label_partitioning\\qdependency.py:78: RuntimeWarning: divide by zero encountered in log\n",
      "  Q[i,j]=np.tanh((np.log(b)-np.log(a))/c)\n"
     ]
    }
   ],
   "source": [
    "from qdependency import get_Q\n",
    "Q = get_Q(train_targets, ignore_nan=True)\n",
    "Q = np.abs(Q)"
   ]
  },
  {
   "cell_type": "code",
   "execution_count": 4,
   "metadata": {},
   "outputs": [],
   "source": [
    "for i in range(len(Q)):\n",
    "    Q[i,i]=1."
   ]
  },
  {
   "cell_type": "code",
   "execution_count": 5,
   "metadata": {},
   "outputs": [],
   "source": [
    "a=Q[np.triu_indices(Q.shape[0], k=1, m=Q.shape[1])]"
   ]
  },
  {
   "cell_type": "code",
   "execution_count": 6,
   "metadata": {},
   "outputs": [
    {
     "data": {
      "text/plain": [
       "array([ 530, 1808,  360, ...,  622, 2155, 1301], dtype=int64)"
      ]
     },
     "execution_count": 6,
     "metadata": {},
     "output_type": "execute_result"
    }
   ],
   "source": [
    "np.argsort(a)"
   ]
  },
  {
   "cell_type": "code",
   "execution_count": 7,
   "metadata": {},
   "outputs": [
    {
     "data": {
      "text/plain": [
       "2278"
      ]
     },
     "execution_count": 7,
     "metadata": {},
     "output_type": "execute_result"
    }
   ],
   "source": [
    "len(a)"
   ]
  },
  {
   "cell_type": "code",
   "execution_count": null,
   "metadata": {},
   "outputs": [],
   "source": []
  },
  {
   "cell_type": "code",
   "execution_count": 8,
   "metadata": {},
   "outputs": [],
   "source": [
    "class UniformSubsetPartition():\n",
    "    def __init__(self,X, set_size=4):\n",
    "        # X is a symmetric similarity matrix\n",
    "        self.X = X\n",
    "        self.set_size=set_size\n",
    "        self.n = X.shape[0]\n",
    "        self.ind = np.triu_indices(self.n, k=1, m=self.n)\n",
    "        self.distances = X[self.ind]\n",
    "        self.sort_ind = np.argsort(self.distances)[::-1]\n",
    "        self.ind = [self.ind[0][self.sort_ind],\n",
    "                    self.ind[1][self.sort_ind]]\n",
    "        self.partition=[]\n",
    "        self.fitted=[] \n",
    "        self.final_partition=[]\n",
    "        self.final_fitted=[]\n",
    "        \n",
    "    def fit(self):\n",
    "        ptr = 0\n",
    "        finished=False\n",
    "        while not finished:\n",
    "            self.fit_step(ptr)\n",
    "            self.update_final_partition()\n",
    "            ptr=ptr+1\n",
    "            if len(self.fitted)==self.n:\n",
    "                finished=True\n",
    "        self.final_merge()\n",
    "        return self.final_partition\n",
    "        #Final merges\n",
    "    \n",
    "    def fit_step(self,ptr):\n",
    "        #update temp partition with indices at ptr\n",
    "        head, tail = self.ind[0][ptr], self.ind[1][ptr]\n",
    "        final_fitted=np.isin([head, tail], self.final_fitted)\n",
    "        if np.any(final_fitted):\n",
    "            return None\n",
    "        fitted=np.isin([head,tail], self.fitted)\n",
    "        if np.all(fitted):\n",
    "            #Combine head and tail partitions\n",
    "            part_idx_head = self.find_part_idx(head)\n",
    "            part_idx_tail = self.find_part_idx(tail)\n",
    "            if part_idx_head!=part_idx_tail:\n",
    "                self.combine_part_ind(part_idx_head, \n",
    "                                      part_idx_tail)\n",
    "        elif np.any(fitted):\n",
    "            #Add head/tail to head/tail partition\n",
    "            if fitted[0]:\n",
    "                part_idx = self.find_part_idx(head)\n",
    "                self.add_to_set(part_idx,tail)\n",
    "            else:\n",
    "                part_idx = self.find_part_idx(tail)\n",
    "                self.add_to_set(part_idx, head)\n",
    "        else: \n",
    "            #Add new set with head/tail\n",
    "            self.add_new_set([head,tail])\n",
    "    \n",
    "    def find_part_idx(self, add):\n",
    "        #Find which partition index a node belongs to \n",
    "        for i in range(len(self.partition)):\n",
    "            if np.isin(add,self.partition[i]):\n",
    "                return i\n",
    "    \n",
    "    def combine_part_ind(self, part_idx1, part_idx2):\n",
    "        ind = np.setdiff1d(\n",
    "            list(range(len(self.partition))), \n",
    "            [part_idx1, part_idx2])\n",
    "        if len(ind)>0:\n",
    "            partition = [self.partition[j] for j in ind]\n",
    "        else:\n",
    "            partition=[]\n",
    "        part=list(np.concatenate([\n",
    "            self.partition[part_idx1],\n",
    "            self.partition[part_idx2]]))\n",
    "        partition.append(part)\n",
    "        self.partition=partition\n",
    "    \n",
    "    def add_to_set(self, part_idx, add):\n",
    "        self.partition[part_idx].extend([add])\n",
    "        self.fitted.extend([add])\n",
    "    \n",
    "    def add_new_set(self, add_list):\n",
    "        self.partition.append(add_list)\n",
    "        self.fitted.extend(add_list)\n",
    "    \n",
    "    def update_final_partition(self):\n",
    "        retain_part=[]\n",
    "        for i in range(len(self.partition)):\n",
    "            if len(self.partition[i])>=self.set_size:\n",
    "                self.final_partition.append(\n",
    "                    self.partition[i])\n",
    "                self.final_fitted.extend(\n",
    "                    self.partition[i])\n",
    "            else:\n",
    "                retain_part.append(i)\n",
    "        self.partition = [self.partition[j] for j in retain_part] \n",
    "\n",
    "    def final_merge(self):\n",
    "        for i in range(len(self.partition)):\n",
    "            self.final_partition.append(self.partition[i])"
   ]
  },
  {
   "cell_type": "code",
   "execution_count": 9,
   "metadata": {},
   "outputs": [],
   "source": [
    "a=UniformSubsetPartition(Q)"
   ]
  },
  {
   "cell_type": "code",
   "execution_count": 10,
   "metadata": {},
   "outputs": [
    {
     "data": {
      "text/plain": [
       "[[51, 65, 9, 62],\n",
       " [23, 37, 64, 41],\n",
       " [38, 57, 21, 59, 30],\n",
       " [31, 42, 50, 15],\n",
       " [19, 61, 33, 67],\n",
       " [46, 66, 28, 47],\n",
       " [26, 27, 44, 45],\n",
       " [24, 25, 22, 11],\n",
       " [6, 18, 58, 56],\n",
       " [5, 8, 29, 7],\n",
       " [12, 16, 14, 53],\n",
       " [32, 35, 43, 34],\n",
       " [54, 55, 52, 60],\n",
       " [13, 36, 3, 39],\n",
       " [10, 17, 48, 49, 40],\n",
       " [1, 2, 0],\n",
       " [20, 63, 4]]"
      ]
     },
     "execution_count": 10,
     "metadata": {},
     "output_type": "execute_result"
    }
   ],
   "source": [
    "label_partition=a.fit()\n",
    "label_partition\n"
   ]
  },
  {
   "cell_type": "code",
   "execution_count": 11,
   "metadata": {},
   "outputs": [],
   "source": [
    "import dill as pickle\n",
    "with open(\"learned_label_partitioning_q.ob\", 'wb') as f:\n",
    "    pickle.dump(label_partition, f)"
   ]
  },
  {
   "cell_type": "code",
   "execution_count": 12,
   "metadata": {},
   "outputs": [],
   "source": [
    "with open(\"learned_label_partitioning_q.ob\", 'rb') as f:\n",
    "    l=pickle.load(f)"
   ]
  },
  {
   "cell_type": "code",
   "execution_count": 13,
   "metadata": {},
   "outputs": [
    {
     "data": {
      "text/plain": [
       "[[51, 65, 9, 62],\n",
       " [23, 37, 64, 41],\n",
       " [38, 57, 21, 59, 30],\n",
       " [31, 42, 50, 15],\n",
       " [19, 61, 33, 67],\n",
       " [46, 66, 28, 47],\n",
       " [26, 27, 44, 45],\n",
       " [24, 25, 22, 11],\n",
       " [6, 18, 58, 56],\n",
       " [5, 8, 29, 7],\n",
       " [12, 16, 14, 53],\n",
       " [32, 35, 43, 34],\n",
       " [54, 55, 52, 60],\n",
       " [13, 36, 3, 39],\n",
       " [10, 17, 48, 49, 40],\n",
       " [1, 2, 0],\n",
       " [20, 63, 4]]"
      ]
     },
     "execution_count": 13,
     "metadata": {},
     "output_type": "execute_result"
    }
   ],
   "source": [
    "l"
   ]
  },
  {
   "cell_type": "code",
   "execution_count": 22,
   "metadata": {},
   "outputs": [
    {
     "data": {
      "text/plain": [
       "array([False, False, False, False, False, False, False, False, False,\n",
       "       False, False, False, False, False, False, False, False, False,\n",
       "       False, False, False, False, False, False, False, False, False,\n",
       "       False, False, False, False, False, False, False, False, False,\n",
       "       False, False, False, False, False, False, False, False, False,\n",
       "       False, False, False, False, False, False, False, False, False,\n",
       "       False, False, False, False, False, False, False, False, False,\n",
       "       False, False, False, False, False])"
      ]
     },
     "execution_count": 22,
     "metadata": {},
     "output_type": "execute_result"
    }
   ],
   "source": [
    "np.isin(list(range(68)), )"
   ]
  },
  {
   "cell_type": "code",
   "execution_count": 21,
   "metadata": {},
   "outputs": [
    {
     "name": "stderr",
     "output_type": "stream",
     "text": [
      "<ipython-input-21-4951024a5b0f>:1: VisibleDeprecationWarning: Creating an ndarray from ragged nested sequences (which is a list-or-tuple of lists-or-tuples-or ndarrays with different lengths or shapes) is deprecated. If you meant to do this, you must specify 'dtype=object' when creating the ndarray\n",
      "  np.array(l).flatten()\n"
     ]
    },
    {
     "data": {
      "text/plain": [
       "array([list([51, 65, 9, 62]), list([23, 37, 64, 41]),\n",
       "       list([38, 57, 21, 59, 30]), list([31, 42, 50, 15]),\n",
       "       list([19, 61, 33, 67]), list([46, 66, 28, 47]),\n",
       "       list([26, 27, 44, 45]), list([24, 25, 22, 11]),\n",
       "       list([6, 18, 58, 56]), list([5, 8, 29, 7]), list([12, 16, 14, 53]),\n",
       "       list([32, 35, 43, 34]), list([54, 55, 52, 60]),\n",
       "       list([13, 36, 3, 39]), list([10, 17, 48, 49, 40]), list([1, 2, 0]),\n",
       "       list([20, 63, 4])], dtype=object)"
      ]
     },
     "execution_count": 21,
     "metadata": {},
     "output_type": "execute_result"
    }
   ],
   "source": [
    "np.array(l).flatten()"
   ]
  },
  {
   "cell_type": "code",
   "execution_count": null,
   "metadata": {},
   "outputs": [],
   "source": [
    "#Need a better way to partition labels"
   ]
  },
  {
   "cell_type": "code",
   "execution_count": null,
   "metadata": {},
   "outputs": [],
   "source": []
  },
  {
   "cell_type": "markdown",
   "metadata": {},
   "source": [
    "## Load partitions"
   ]
  },
  {
   "cell_type": "code",
   "execution_count": 6,
   "metadata": {},
   "outputs": [],
   "source": [
    "import os\n",
    "os.chdir(\"label_partitioning\")\n",
    "import dill as pickle\n",
    "with open(\"learned_label_partitioning_q.ob\", 'rb') as f:\n",
    "    learned_part = pickle.load(f)\n",
    "with open(\"random_label_partitioning_00\", 'rb') as f:\n",
    "    random_part = pickle.load(f)"
   ]
  },
  {
   "cell_type": "code",
   "execution_count": 7,
   "metadata": {},
   "outputs": [
    {
     "data": {
      "text/plain": [
       "[[51, 65, 9, 62],\n",
       " [23, 37, 64, 41],\n",
       " [38, 57, 21, 59, 30],\n",
       " [31, 42, 50, 15],\n",
       " [19, 61, 33, 67],\n",
       " [46, 66, 28, 47],\n",
       " [26, 27, 44, 45],\n",
       " [24, 25, 22, 11],\n",
       " [6, 18, 58, 56],\n",
       " [5, 8, 29, 7],\n",
       " [12, 16, 14, 53],\n",
       " [32, 35, 43, 34],\n",
       " [54, 55, 52, 60],\n",
       " [13, 36, 3, 39],\n",
       " [10, 17, 48, 49, 40],\n",
       " [1, 2, 0],\n",
       " [20, 63, 4]]"
      ]
     },
     "execution_count": 7,
     "metadata": {},
     "output_type": "execute_result"
    }
   ],
   "source": [
    "learned_part"
   ]
  },
  {
   "cell_type": "code",
   "execution_count": 8,
   "metadata": {},
   "outputs": [],
   "source": [
    "learned_q=[]\n",
    "for i, part in enumerate(learned_part):\n",
    "    learned_q.append(np.average(Q[np.ix_(part, part)]))"
   ]
  },
  {
   "cell_type": "code",
   "execution_count": 10,
   "metadata": {},
   "outputs": [],
   "source": [
    "random_q=[]\n",
    "for i, part in enumerate(random_part):\n",
    "    random_q.append(np.average(Q[np.ix_(part,part)]))"
   ]
  },
  {
   "cell_type": "code",
   "execution_count": 11,
   "metadata": {},
   "outputs": [
    {
     "data": {
      "text/plain": [
       "[0.7356369840441394,\n",
       " 0.6672188997516355,\n",
       " 0.7942474041011204,\n",
       " 0.7473182522930348,\n",
       " 0.745907479139748,\n",
       " 0.7498777487799211,\n",
       " 0.7497094158170687,\n",
       " 0.7467111362505245,\n",
       " 0.747844767002696,\n",
       " 0.6284036224308007,\n",
       " 0.7414744878774789,\n",
       " 0.7426340851489972,\n",
       " 0.7423602207191177,\n",
       " 0.7422891334553758,\n",
       " 0.7741996327889926,\n",
       " 0.6659726141708757,\n",
       " 0.6073495998777769]"
      ]
     },
     "execution_count": 11,
     "metadata": {},
     "output_type": "execute_result"
    }
   ],
   "source": [
    "learned_q"
   ]
  },
  {
   "cell_type": "code",
   "execution_count": 13,
   "metadata": {},
   "outputs": [
    {
     "data": {
      "text/plain": [
       "0.7252444402146649"
      ]
     },
     "execution_count": 13,
     "metadata": {},
     "output_type": "execute_result"
    }
   ],
   "source": [
    "np.average(learned_q)"
   ]
  },
  {
   "cell_type": "code",
   "execution_count": 14,
   "metadata": {},
   "outputs": [
    {
     "data": {
      "text/plain": [
       "0.6746564048823417"
      ]
     },
     "execution_count": 14,
     "metadata": {},
     "output_type": "execute_result"
    }
   ],
   "source": [
    "np.average(random_q)"
   ]
  },
  {
   "cell_type": "code",
   "execution_count": 18,
   "metadata": {},
   "outputs": [
    {
     "data": {
      "text/plain": [
       "Ttest_indResult(statistic=2.655717715601566, pvalue=0.012348381798768404)"
      ]
     },
     "execution_count": 18,
     "metadata": {},
     "output_type": "execute_result"
    }
   ],
   "source": [
    "from scipy.stats import ttest_ind\n",
    "ttest_ind(learned_q, random_q, equal_var=False)"
   ]
  },
  {
   "cell_type": "code",
   "execution_count": 38,
   "metadata": {},
   "outputs": [],
   "source": [
    "import pandas as pd\n",
    "%matplotlib inline\n",
    "import seaborn as sns\n",
    "data={'learned_part': learned_q, 'random_part': random_q}\n",
    "df=pd.DataFrame.from_dict(data)\n",
    "df=df.melt()\n"
   ]
  },
  {
   "cell_type": "code",
   "execution_count": 52,
   "metadata": {},
   "outputs": [
    {
     "data": {
      "text/plain": [
       "Text(0, 0.5, 'Averaged q in partitioning')"
      ]
     },
     "execution_count": 52,
     "metadata": {},
     "output_type": "execute_result"
    },
    {
     "data": {
      "image/png": "[encoded data removed]",
      "text/plain": [
       "<Figure size 432x288 with 1 Axes>"
      ]
     },
     "metadata": {
      "needs_background": "light"
     },
     "output_type": "display_data"
    }
   ],
   "source": [
    "ax=sns.swarmplot(data=df, \n",
    "             x=\"variable\", \n",
    "             y=\"value\"\n",
    "            )\n",
    "ax.set_xticklabels([\"Data-driven\", \"Random\"])\n",
    "ax.set_xlabel(\"Partitioning\")\n",
    "ax.set_ylabel(\"Averaged q in partitioning\")"
   ]
  },
  {
   "cell_type": "code",
   "execution_count": null,
   "metadata": {},
   "outputs": [],
   "source": []
  }
 ],
 "metadata": {
  "kernelspec": {
   "display_name": "Python 3",
   "language": "python",
   "name": "python3"
  },
  "language_info": {
   "codemirror_mode": {
    "name": "ipython",
    "version": 3
   },
   "file_extension": ".py",
   "mimetype": "text/x-python",
   "name": "python",
   "nbconvert_exporter": "python",
   "pygments_lexer": "ipython3",
   "version": "3.8.6rc1"
  },
  "toc": {
   "base_numbering": 1,
   "nav_menu": {},
   "number_sections": true,
   "sideBar": true,
   "skip_h1_title": false,
   "title_cell": "Table of Contents",
   "title_sidebar": "Contents",
   "toc_cell": false,
   "toc_position": {},
   "toc_section_display": true,
   "toc_window_display": true
  }
 },
 "nbformat": 4,
 "nbformat_minor": 4
}
