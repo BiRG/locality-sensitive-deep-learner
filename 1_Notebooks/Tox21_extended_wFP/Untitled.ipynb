{
 "cells": [
  {
   "cell_type": "code",
   "execution_count": 1,
   "metadata": {},
   "outputs": [],
   "source": [
    "base_classifier_scores = [0.948933204,\n",
    "0.917090691,\n",
    "0.909814115,\n",
    "0.932214654,\n",
    "0.868034973,\n",
    "0.889167046,\n",
    "0.907157157,\n",
    "0.899374859,\n",
    "0.916035868,\n",
    "0.879438481,\n",
    "0.872964887,\n",
    "0.909962146,\n",
    "0.886166253,\n",
    "0.932943021,\n",
    "0.956709115,\n",
    "0.938680927,\n",
    "0.868792675,\n",
    "0.922237029,\n",
    "0.879898057,\n",
    "0.989526412,\n",
    "0.901544402,\n",
    "0.906475267,\n",
    "0.902408564,\n",
    "0.969801085,\n",
    "0.917357972,\n",
    "0.931820262,\n",
    "0.931682497,\n",
    "0.932075183,\n",
    "0.882796781,\n",
    "0.800259403,\n",
    "0.901810345,\n",
    "0.891574586,\n",
    "0.877460739,\n",
    "0.944671767,\n",
    "0.921713507,\n",
    "0.847462149,\n",
    "0.974882760,\n",
    "0.874144487,\n",
    "0.831621867,\n",
    "0.929728836,\n",
    "0.919614240,\n",
    "0.892040134,\n",
    "0.943275972,\n",
    "0.868630740,\n",
    "0.922277260,\n",
    "0.903283851,\n",
    "0.892451570,\n",
    "0.914366596,\n",
    "0.876172608,\n",
    "0.944270833,\n",
    "0.956465068,\n",
    "0.961900902,\n",
    "0.938951311,\n",
    "0.899404039,\n",
    "0.883008357,\n",
    "0.903278516,\n",
    "0.814511654,\n",
    "0.897042093,\n",
    "0.906621392,\n",
    "0.871748336,\n",
    "0.945626822,\n",
    "0.728115942,\n",
    "0.885132743,\n",
    "0.869390963,\n",
    "0.924537037,\n",
    "0.998858447,\n",
    "0.854158607,\n",
    "0.861289555,\n",
    "]"
   ]
  },
  {
   "cell_type": "code",
   "execution_count": 4,
   "metadata": {},
   "outputs": [],
   "source": [
    "learned_cc_scores = [0.949327191,\n",
    "0.917090691,\n",
    "0.92084121,\n",
    "0.935005815,\n",
    "0.867219917,\n",
    "0.889167046,\n",
    "0.907157157,\n",
    "0.892935151,\n",
    "0.889833469,\n",
    "0.893843472,\n",
    "0.872964887,\n",
    "0.913897735,\n",
    "0.886166253,\n",
    "0.932943021,\n",
    "0.942840478,\n",
    "0.95258467,\n",
    "0.874612042,\n",
    "0.906546877,\n",
    "0.885844749,\n",
    "0.989526412,\n",
    "0.901544402,\n",
    "0.883731046,\n",
    "0.894023194,\n",
    "0.969801085,\n",
    "0.917357972,\n",
    "0.922805894,\n",
    "0.931682497,\n",
    "0.895362164,\n",
    "0.879275654,\n",
    "0.833333333,\n",
    "0.922413793,\n",
    "0.891574586,\n",
    "0.877460739,\n",
    "0.943871197,\n",
    "0.922549149,\n",
    "0.852197692,\n",
    "0.971226453,\n",
    "0.875665399,\n",
    "0.831621867,\n",
    "0.919312169,\n",
    "0.906593407,\n",
    "0.88,\n",
    "0.943913321,\n",
    "0.891643951,\n",
    "0.911457994,\n",
    "0.905713,\n",
    "0.89245157,\n",
    "0.874262798,\n",
    "0.876094434,\n",
    "0.933854167,\n",
    "0.957768509,\n",
    "0.961900902,\n",
    "0.935182584,\n",
    "0.904094471,\n",
    "0.883008357,\n",
    "0.899009066,\n",
    "0.806048835,\n",
    "0.836746303,\n",
    "0.91902834,\n",
    "0.823956443,\n",
    "0.938921283,\n",
    "0.730724638,\n",
    "0.899823009,\n",
    "0.83913556,\n",
    "0.927314815,\n",
    "0.999429224,\n",
    "0.818568665,\n",
    "0.859148227,\n",
    "]"
   ]
  },
  {
   "cell_type": "code",
   "execution_count": 9,
   "metadata": {},
   "outputs": [],
   "source": [
    "import os, sys\n",
    "import dill as pickle\n",
    "with open(os.path.join(\"label_partitioning\", \"learned_label_partitioning_q.ob\"), 'rb') as f:\n",
    "    learned_label_partitioning = pickle.load(f)"
   ]
  },
  {
   "cell_type": "code",
   "execution_count": 12,
   "metadata": {},
   "outputs": [],
   "source": [
    "starts = [i[0] for i in learned_label_partitioning]"
   ]
  },
  {
   "cell_type": "code",
   "execution_count": 14,
   "metadata": {},
   "outputs": [],
   "source": [
    "import numpy as np\n",
    "retain = np.setdiff1d(range(len(learned_cc_scores)), starts)"
   ]
  },
  {
   "cell_type": "code",
   "execution_count": 17,
   "metadata": {},
   "outputs": [
    {
     "data": {
      "text/plain": [
       "0.9023419641764707"
      ]
     },
     "execution_count": 17,
     "metadata": {},
     "output_type": "execute_result"
    }
   ],
   "source": [
    "np.average(np.array(base_classifier_scores)[retain])"
   ]
  },
  {
   "cell_type": "code",
   "execution_count": 18,
   "metadata": {},
   "outputs": [
    {
     "data": {
      "text/plain": [
       "0.8972457442549019"
      ]
     },
     "execution_count": 18,
     "metadata": {},
     "output_type": "execute_result"
    }
   ],
   "source": [
    "np.average(np.array(learned_cc_scores)[retain])"
   ]
  },
  {
   "cell_type": "code",
   "execution_count": 19,
   "metadata": {},
   "outputs": [
    {
     "data": {
      "text/plain": [
       "Ttest_relResult(statistic=2.0669847722450454, pvalue=0.04393248740284772)"
      ]
     },
     "execution_count": 19,
     "metadata": {},
     "output_type": "execute_result"
    }
   ],
   "source": [
    "from scipy.stats import ttest_rel\n",
    "ttest_rel(np.array(base_classifier_scores)[retain], np.array(learned_cc_scores)[retain])"
   ]
  },
  {
   "cell_type": "code",
   "execution_count": 22,
   "metadata": {},
   "outputs": [
    {
     "data": {
      "text/plain": [
       "WilcoxonResult(statistic=497.0, pvalue=0.11970916241945852)"
      ]
     },
     "execution_count": 22,
     "metadata": {},
     "output_type": "execute_result"
    }
   ],
   "source": [
    "from scipy.stats import wilcoxon\n",
    "wilcoxon(np.array(base_classifier_scores)[retain], \n",
    "         np.array(learned_cc_scores)[retain])"
   ]
  },
  {
   "cell_type": "code",
   "execution_count": 23,
   "metadata": {},
   "outputs": [],
   "source": [
    "d = np.array(base_classifier_scores)[retain] - np.array(learned_cc_scores)[retain]"
   ]
  },
  {
   "cell_type": "code",
   "execution_count": 28,
   "metadata": {},
   "outputs": [
    {
     "data": {
      "text/plain": [
       "array([-3.9398700e-04, -1.1027095e-02, -2.7911610e-03,  8.1505600e-04,\n",
       "        6.4397080e-03,  2.6202399e-02, -1.4404991e-02, -3.9355890e-03,\n",
       "        1.3868637e-02, -1.3903743e-02, -5.8193670e-03,  1.5690152e-02,\n",
       "       -5.9466920e-03,  2.2744221e-02,  8.3853700e-03,  9.0143680e-03,\n",
       "        3.6713019e-02,  3.5211270e-03, -3.3073930e-02, -2.0603448e-02,\n",
       "        8.0057000e-04, -8.3564200e-04, -4.7355430e-03,  3.6563070e-03,\n",
       "       -1.5209120e-03,  1.0416667e-02,  1.3020833e-02,  1.2040134e-02,\n",
       "       -6.3734900e-04, -2.3013211e-02,  1.0819266e-02, -2.4291490e-03,\n",
       "        4.0103798e-02,  7.8174000e-05,  1.0416666e-02, -1.3034410e-03,\n",
       "        3.7687270e-03, -4.6904320e-03,  4.2694500e-03,  8.4628190e-03,\n",
       "        6.0295790e-02, -1.2406948e-02,  4.7791893e-02,  6.7055390e-03,\n",
       "       -2.6086960e-03, -1.4690266e-02,  3.0255403e-02, -2.7777780e-03,\n",
       "       -5.7077700e-04,  3.5589942e-02,  2.1413280e-03])"
      ]
     },
     "execution_count": 28,
     "metadata": {},
     "output_type": "execute_result"
    }
   ],
   "source": [
    "d"
   ]
  },
  {
   "cell_type": "markdown",
   "metadata": {},
   "source": [
    "# Calculate Spearman's rank-order correlation score"
   ]
  },
  {
   "cell_type": "code",
   "execution_count": 2,
   "metadata": {},
   "outputs": [],
   "source": [
    "stacked_scores = [\n",
    "    0.895684325372772,\n",
    "0.899780504838870,\n",
    "0.949196597353497,\n",
    "0.921149692639973,\n",
    "0.867960877296976,\n",
    "0.917387346381429,\n",
    "0.917917917917917,\n",
    "0.908827295322738,\n",
    "0.895306859205776,\n",
    "0.884301312046976,\n",
    "0.889781136828845,\n",
    "0.924022111398185,\n",
    "0.892817755720981,\n",
    "0.937837924304955,\n",
    "0.953403972651566,\n",
    "0.963814616755793,\n",
    "0.906657355679702,\n",
    "0.919141985126595,\n",
    "0.904268875438037,\n",
    "0.992941712204007,\n",
    "0.902992277992278,\n",
    "0.919463087248322,\n",
    "0.896113164266598,\n",
    "0.926220614828209,\n",
    "0.918387779621259,\n",
    "0.954745126750251,\n",
    "0.935764360018091,\n",
    "0.930661674816625,\n",
    "0.924547283702213,\n",
    "0.856355382619974,\n",
    "0.942500000000000,\n",
    "0.884438305709023,\n",
    "0.927892059278920,\n",
    "0.970734744707347,\n",
    "0.948629986365835,\n",
    "0.878343226839191,\n",
    "0.981400524600588,\n",
    "0.896197718631178,\n",
    "0.841588643914225,\n",
    "0.922164351851851,\n",
    "0.902071886446886,\n",
    "0.897123745819398,\n",
    "0.968451242829828,\n",
    "0.904801845250576,\n",
    "0.936941927915010,\n",
    "0.903216374269005,\n",
    "0.909930973057225,\n",
    "0.936305732484076,\n",
    "0.896185115697310,\n",
    "0.945833333333333,\n",
    "0.961939520333680,\n",
    "0.959029959131286,\n",
    "0.941292134831460,\n",
    "0.907239819004524,\n",
    "0.898087279480037,\n",
    "0.910262492093611,\n",
    "0.818881798002219,\n",
    "0.923777019340159,\n",
    "0.917004048582995,\n",
    "0.877495462794918,\n",
    "0.945918367346938,\n",
    "0.799999999999999,\n",
    "0.903628318584070,\n",
    "0.836856581532416,\n",
    "0.884722222222222,\n",
    "0.994292237442922,\n",
    "0.842166344294003,\n",
    "0.958838924577682,\n",
    "]"
   ]
  },
  {
   "cell_type": "code",
   "execution_count": 5,
   "metadata": {},
   "outputs": [],
   "source": [
    "import numpy as np\n",
    "diff=np.array(stacked_scores)-np.array(base_classifier_scores)"
   ]
  },
  {
   "cell_type": "code",
   "execution_count": 8,
   "metadata": {},
   "outputs": [
    {
     "data": {
      "text/plain": [
       "SpearmanrResult(correlation=-0.4272626636637782, pvalue=0.000279219553854029)"
      ]
     },
     "execution_count": 8,
     "metadata": {},
     "output_type": "execute_result"
    }
   ],
   "source": [
    "from scipy.stats import spearmanr\n",
    "spearmanr(base_classifier_scores, diff)"
   ]
  },
  {
   "cell_type": "code",
   "execution_count": null,
   "metadata": {},
   "outputs": [],
   "source": []
  }
 ],
 "metadata": {
  "kernelspec": {
   "display_name": "Python 3",
   "language": "python",
   "name": "python3"
  },
  "language_info": {
   "codemirror_mode": {
    "name": "ipython",
    "version": 3
   },
   "file_extension": ".py",
   "mimetype": "text/x-python",
   "name": "python",
   "nbconvert_exporter": "python",
   "pygments_lexer": "ipython3",
   "version": "3.8.6rc1"
  },
  "toc": {
   "base_numbering": 1,
   "nav_menu": {},
   "number_sections": true,
   "sideBar": true,
   "skip_h1_title": false,
   "title_cell": "Table of Contents",
   "title_sidebar": "Contents",
   "toc_cell": false,
   "toc_position": {
    "height": "calc(100% - 180px)",
    "left": "10px",
    "top": "150px",
    "width": "321.821px"
   },
   "toc_section_display": true,
   "toc_window_display": true
  }
 },
 "nbformat": 4,
 "nbformat_minor": 4
}
